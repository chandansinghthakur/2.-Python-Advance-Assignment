{
 "cells": [
  {
   "cell_type": "markdown",
   "id": "f1b31c81",
   "metadata": {},
   "source": [
    "## Q1. What is the purpose of Python's OOP?"
   ]
  },
  {
   "cell_type": "markdown",
   "id": "f6f8cae3",
   "metadata": {},
   "source": [
    "Ans: Object-Oriented Programming is a programming that provide a structured program so that properties and behaviours bundles into an individual objects.\n",
    "\n",
    "   1. In python, OOP uses objects and classes.\n",
    "   2. It includes inheritence, polymorphisms, encapsulations, abstractions etc.\n",
    "   3. OOPs bind the data and the functions that work tpgether as a single unit so that no other part of code can access this data\n",
    "    "
   ]
  },
  {
   "cell_type": "markdown",
   "id": "1fc1b9c7",
   "metadata": {},
   "source": [
    "## Q2. Where does an inheritance search look for an attribute?"
   ]
  },
  {
   "cell_type": "markdown",
   "id": "a356ef9e",
   "metadata": {},
   "source": [
    "Ans: Python searches for an attributes in an upward direction of tree of attributes. \n",
    "    It first searches for the attributes in it instances and then looks in the class it is generated from, to all super classes listed in its class header."
   ]
  },
  {
   "cell_type": "markdown",
   "id": "fe121249",
   "metadata": {},
   "source": [
    "## Q3. How do you distinguish between a class object and an instance object?"
   ]
  },
  {
   "cell_type": "markdown",
   "id": "f0770060",
   "metadata": {},
   "source": [
    "1. Class is a template for creating objects whereas object is an instance of a class.\n",
    "2. Separate memory is alocated for each object whenever an object is created but for a class this doesn't happen.\n",
    "3. A class have no allocated memory so it can't be manipulated but objects can be manipulated.\n",
    "4. A class is created once and many objects are created using a class."
   ]
  },
  {
   "cell_type": "markdown",
   "id": "3b89595b",
   "metadata": {},
   "source": [
    "## Q4. What makes the first argument in a class’s method function special?"
   ]
  },
  {
   "cell_type": "markdown",
   "id": "397e95c3",
   "metadata": {},
   "source": [
    "Ans: Pyhton classes have three types of methods: \n",
    "\n",
    "  1. Instance method(object level method)\n",
    "  2. Class method (class level method)\n",
    "  3. Static method\n",
    "  \n",
    "`self` is the first argument for instance methods which refers to the object itself.\n",
    "\n",
    "`cls` is the first argument for class methods which refers to the class itself."
   ]
  },
  {
   "cell_type": "markdown",
   "id": "5ef6a5a4",
   "metadata": {},
   "source": [
    "## Q5. What is the purpose of the __init__ method?"
   ]
  },
  {
   "cell_type": "markdown",
   "id": "566a07c0",
   "metadata": {},
   "source": [
    "Ans: ` __init__` is a reserved method in python classes. It serves the role of a constructor in object oriented terminology. This method is called when an object is created from a class and it allows the class to initialize the attributes of class."
   ]
  },
  {
   "cell_type": "markdown",
   "id": "e66e0d77",
   "metadata": {},
   "source": [
    "## Q6. What is the process for creating a class instance?"
   ]
  },
  {
   "cell_type": "markdown",
   "id": "d6680a36",
   "metadata": {},
   "source": [
    "Ans: To create a class instance, we need to call the class by its name and pass the argument to the class, which accepts `init` method."
   ]
  },
  {
   "cell_type": "markdown",
   "id": "0aca1bd1",
   "metadata": {},
   "source": [
    "## Q7. What is the process for creating a class?"
   ]
  },
  {
   "cell_type": "markdown",
   "id": "5edfa005",
   "metadata": {},
   "source": [
    "Ans: `class` keyword is used to create a class instance.\n",
    "\n",
    "   example- `class assignment:` \n",
    "   \n",
    "   class --> This is a keyword in pyhton to create class\n",
    "   \n",
    "   assignment --> This is the classname which is created using class keyword."
   ]
  },
  {
   "cell_type": "markdown",
   "id": "e9f9dc6c",
   "metadata": {},
   "source": [
    "## Q8. How would you define the superclasses of a class?"
   ]
  },
  {
   "cell_type": "markdown",
   "id": "5b7251f9",
   "metadata": {},
   "source": [
    "Ans: Superclass/Parent class is given as an argument to the child class.\n",
    "    \n",
    "   Example: `class one_neuron(ineuron):` \n",
    "            Here child class `one_neuron` inherits attributes and methods of superclass/parent class `ineuron`."
   ]
  },
  {
   "cell_type": "code",
   "execution_count": null,
   "id": "d6717371",
   "metadata": {},
   "outputs": [],
   "source": []
  }
 ],
 "metadata": {
  "kernelspec": {
   "display_name": "Python 3 (ipykernel)",
   "language": "python",
   "name": "python3"
  },
  "language_info": {
   "codemirror_mode": {
    "name": "ipython",
    "version": 3
   },
   "file_extension": ".py",
   "mimetype": "text/x-python",
   "name": "python",
   "nbconvert_exporter": "python",
   "pygments_lexer": "ipython3",
   "version": "3.9.7"
  }
 },
 "nbformat": 4,
 "nbformat_minor": 5
}
